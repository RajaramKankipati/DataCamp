{
 "cells": [
  {
   "cell_type": "code",
   "execution_count": 1,
   "metadata": {
    "collapsed": false,
    "pycharm": {
     "name": "#%%\n"
    }
   },
   "outputs": [
    {
     "name": "stdout",
     "output_type": "stream",
     "text": [
      "/Users/karajaram/Documents/GitHub/DataCamp/MLOps/Shell\n"
     ]
    }
   ],
   "source": [
    "! pwd"
   ]
  },
  {
   "cell_type": "code",
   "execution_count": 2,
   "metadata": {
    "collapsed": false,
    "pycharm": {
     "name": "#%%\n"
    }
   },
   "outputs": [
    {
     "name": "stdout",
     "output_type": "stream",
     "text": [
      "commands.ipynb\n"
     ]
    }
   ],
   "source": [
    "ls"
   ]
  },
  {
   "cell_type": "code",
   "execution_count": 8,
   "metadata": {},
   "outputs": [
    {
     "name": "stdout",
     "output_type": "stream",
     "text": [
      "\u001b[1m\u001b[36mrepl\u001b[m\u001b[m/\n"
     ]
    }
   ],
   "source": [
    "ls /Users/karajaram/Documents/GitHub/DataCamp/MLOps/Shell/home"
   ]
  },
  {
   "cell_type": "code",
   "execution_count": 10,
   "metadata": {},
   "outputs": [],
   "source": [
    "cp /Users/karajaram/Documents/GitHub/DataCamp/MLOps/Shell/home/repl/seasonal/summer.txt /Users/karajaram/Documents/GitHub/DataCamp/MLOps/Shell/home/repl/backup/summer.txt "
   ]
  },
  {
   "cell_type": "code",
   "execution_count": 11,
   "metadata": {},
   "outputs": [],
   "source": [
    "mv /Users/karajaram/Documents/GitHub/DataCamp/MLOps/Shell/home/repl/seasonal/summer.txt /Users/karajaram/Documents/GitHub/DataCamp/MLOps/Shell/home/repl/backup/summer.txt.bck"
   ]
  },
  {
   "cell_type": "code",
   "execution_count": null,
   "metadata": {},
   "outputs": [],
   "source": [
    "rm <filename>"
   ]
  },
  {
   "cell_type": "markdown",
   "metadata": {},
   "source": [
    "### How can I create and delete directories?\n",
    "mv treats directories the same way it treats files: if you are in your home directory and run mv seasonal by-season, for example, mv changes the name of the seasonal directory to by-season. However, rm works differently.\n",
    "\n",
    "If you try to rm a directory, the shell prints an error message telling you it can't do that, primarily to stop you from accidentally deleting an entire directory full of work. Instead, you can use a separate command called rmdir. For added safety, it only works when the directory is empty, so you must delete the files in a directory before you delete the directory."
   ]
  },
  {
   "cell_type": "markdown",
   "metadata": {},
   "source": [
    "rm people/agarwal.txt\n",
    "rmdir people/\n",
    "mkdir yearly\n",
    "mkdir yearly/2017"
   ]
  },
  {
   "cell_type": "code",
   "execution_count": null,
   "metadata": {},
   "outputs": [],
   "source": [
    "rmdir directory"
   ]
  },
  {
   "cell_type": "markdown",
   "metadata": {},
   "source": [
    "### How can I view a file's contents?\n",
    "Before you rename or delete files, you may want to have a look at their contents. The simplest way to do this is with cat, which just prints the contents of files onto the screen. (Its name is short for \"concatenate\", meaning \"to link things together\", since it will print all the files whose names you give it, one after the other.)"
   ]
  },
  {
   "cell_type": "code",
   "execution_count": 12,
   "metadata": {},
   "outputs": [
    {
     "name": "stdout",
     "output_type": "stream",
     "text": [
      "\"Agarwal\""
     ]
    }
   ],
   "source": [
    "cat /Users/karajaram/Documents/GitHub/DataCamp/MLOps/Shell/home/repl/people/agarwal.txt"
   ]
  },
  {
   "cell_type": "markdown",
   "metadata": {},
   "source": [
    "### How can I view a file's contents piece by piece?\n",
    "You can use cat to print large files and then scroll through the output, but it is usually more convenient to page the output. The original command for doing this was called more, but it has been superseded by a more powerful command called less. (This kind of naming is what passes for humor in the Unix world.) When you less a file, one page is displayed at a time; you can press spacebar to page down or type q to quit.\n",
    "\n",
    "If you give less the names of several files, you can type :n (colon and a lower-case 'n') to move to the next file, :p to go back to the previous one, or :q to quit.\n",
    "\n",
    "Note: If you view solutions to exercises that use less, you will see an extra command at the end that turns paging off so that we can test your solutions efficiently."
   ]
  },
  {
   "cell_type": "markdown",
   "metadata": {},
   "source": [
    "less seasonal/spring.csv seasonal/summer.csv"
   ]
  },
  {
   "cell_type": "markdown",
   "metadata": {},
   "source": [
    "### How can I look at the start of a file?\n",
    "The first thing most data scientists do when given a new dataset to analyze is figure out what fields it contains and what values those fields have. If the dataset has been exported from a database or spreadsheet, it will often be stored as comma-separated values (CSV). A quick way to figure out what it contains is to look at the first few rows.\n",
    "\n",
    "We can do this in the shell using a command called head"
   ]
  },
  {
   "cell_type": "markdown",
   "metadata": {},
   "source": [
    "head summer.txt"
   ]
  },
  {
   "cell_type": "code",
   "execution_count": null,
   "metadata": {},
   "outputs": [],
   "source": [
    "head -n 5 seasonal/winter.csv"
   ]
  },
  {
   "cell_type": "markdown",
   "metadata": {},
   "source": [
    "### How can I get help for a command?\n",
    "To find out what commands do, people used to use the man command (short for \"manual\"). "
   ]
  },
  {
   "cell_type": "code",
   "execution_count": 13,
   "metadata": {},
   "outputs": [
    {
     "name": "stdout",
     "output_type": "stream",
     "text": [
      "Unknown locale, assuming C\n",
      "HEAD(1) \t\t    General Commands Manual\t\t       HEAD(1)\n",
      "\n",
      "NAME\n",
      "     head – display first lines of a file\n",
      "\n",
      "SYNOPSIS\n",
      "     head [-n count | -c bytes] [file ...]\n",
      "\n",
      "DESCRIPTION\n",
      "     This filter displays the first count lines or bytes of each of the\n",
      "     specified files, or of the standard input if no files are specified.  If\n",
      "     count is omitted it defaults to 10.\n",
      "\n",
      "     The following options are available:\n",
      "\n",
      "     -c bytes, --bytes=bytes\n",
      "\t     Print bytes of each of the specified files.\n",
      "\n",
      "     -n count, --lines=count\n",
      "\t     Print count lines of each of the specified files.\n",
      "\n",
      "     If more than a single file is specified, each file is preceded by a\n",
      "     header consisting of the string “==> XXX <==” where “XXX” is the name of\n",
      "     the file.\n",
      "\n",
      "EXIT STATUS\n",
      "     The head utility exits 0 on success, and >0 if an error occurs.\n",
      "\n",
      "EXAMPLES\n",
      "     To display the first 500 lines of the file foo:\n",
      "\n",
      "\t   $ head -n 500 foo\n",
      "\n",
      "     head can be used in conjunction with tail(1) in the following way to, for\n",
      "     example, display only line 500 from the file foo:\n",
      "\n",
      "\t   $ head -n 500 foo | tail -n 1\n",
      "\n",
      "SEE ALSO\n",
      "     tail(1)\n",
      "\n",
      "HISTORY\n",
      "     The head command appeared in PWB UNIX.\n",
      "\n",
      "macOS 14.3\t\t\tApril 10, 2018\t\t\t    macOS 14.3\n"
     ]
    }
   ],
   "source": [
    "man head"
   ]
  },
  {
   "cell_type": "markdown",
   "metadata": {},
   "source": [
    "### How can I select columns from a file?\n",
    "head and tail let you select rows from a text file. If you want to select columns, you can use the command cut. It has several options (use man cut to explore them), but the most common is something like:"
   ]
  },
  {
   "cell_type": "code",
   "execution_count": null,
   "metadata": {},
   "outputs": [],
   "source": [
    "cut -f 2-5,8 -d , values.csv\n",
    "#which means \"select columns 2 through 5 and columns 8, using comma as the separator\". cut uses -f (meaning \"fields\") to specify columns and -d (meaning \"delimiter\") to specify the separator. You need to specify the latter because some files may use spaces, tabs, or colons to separate columns."
   ]
  },
  {
   "cell_type": "markdown",
   "metadata": {},
   "source": [
    "### How can I repeat commands?\n",
    "One of the biggest advantages of using the shell is that it makes it easy for you to do things over again. If you run some commands, you can then press the up-arrow key to cycle back through them. You can also use the left and right arrow keys and the delete key to edit them. Pressing return will then run the modified command.\n",
    "\n",
    "Even better, history will print a list of commands you have run recently. Each one is preceded by a serial number to make it easy to re-run particular commands: just type !55 to re-run the 55th command in your history (if you have that many). You can also re-run a command by typing an exclamation mark followed by the command's name, such as !head or !cut, which will re-run the most recent use of that command."
   ]
  },
  {
   "cell_type": "code",
   "execution_count": 14,
   "metadata": {},
   "outputs": [
    {
     "name": "stdout",
     "output_type": "stream",
     "text": [
      "! pwd\n",
      "ls\n",
      "ls /home\n",
      "ls /home/\n",
      "ls /home/\n",
      "ls /home/\n",
      "ls /home\n",
      "ls /Users/karajaram/Documents/GitHub/DataCamp/MLOps/Shell/home\n",
      "cp /Users/karajaram/Documents/GitHub/DataCamp/MLOps/Shell/home/repl/seasonal/summer.txt /Users/karajaram/Documents/GitHub/DataCamp/MLOps/Shell/home/repl/backup/summer.txt\n",
      "cp /Users/karajaram/Documents/GitHub/DataCamp/MLOps/Shell/home/repl/seasonal/summer.txt /Users/karajaram/Documents/GitHub/DataCamp/MLOps/Shell/home/repl/backup/summer.txt\n",
      "mv /Users/karajaram/Documents/GitHub/DataCamp/MLOps/Shell/home/repl/seasonal/summer.txt /Users/karajaram/Documents/GitHub/DataCamp/MLOps/Shell/home/repl/backup/summer.txt.bck\n",
      "cat /Users/karajaram/Documents/GitHub/DataCamp/MLOps/Shell/home/repl/people/agarwal.txt\n",
      "man head\n",
      "history\n"
     ]
    }
   ],
   "source": [
    "history"
   ]
  },
  {
   "cell_type": "code",
   "execution_count": 16,
   "metadata": {},
   "outputs": [
    {
     "name": "stdout",
     "output_type": "stream",
     "text": [
      "zsh:1: command not found: 2\n"
     ]
    }
   ],
   "source": [
    "!2"
   ]
  },
  {
   "cell_type": "markdown",
   "metadata": {},
   "source": [
    "### How can I select lines containing specific values?\n",
    "head and tail select rows, cut selects columns, and grep selects lines according to what they contain. In its simplest form, grep takes a piece of text followed by one or more filenames and prints all of the lines in those files that contain that text. For example, grep bicuspid seasonal/winter.csv prints lines from winter.csv that contain \"bicuspid\".\n",
    "\n",
    "grep can search for patterns as well; we will explore those in the next course. What's more important right now is some of grep's more common flags:\n",
    "\n",
    " -c: print a count of matching lines rather than the lines themselves\n",
    " -h: do not print the names of files when searching multiple files\n",
    " -i: ignore case (e.g., treat \"Regression\" and \"regression\" as matches)\n",
    " -l: print the names of files that contain matches, not the matches\n",
    " -n: print line numbers for matching lines\n",
    " -v: invert the match, i.e., only show lines that don't match"
   ]
  },
  {
   "cell_type": "code",
   "execution_count": 18,
   "metadata": {},
   "outputs": [
    {
     "name": "stdout",
     "output_type": "stream",
     "text": [
      "6\n"
     ]
    }
   ],
   "source": [
    "!grep incisor /Users/karajaram/Documents/GitHub/DataCamp/MLOps/Shell/home/repl/seasonal/winter.csv -c"
   ]
  },
  {
   "cell_type": "markdown",
   "metadata": {},
   "source": [
    "### How can I store a command's output in a file?\n",
    "All of the tools you have seen so far let you name input files. Most don't have an option for naming an output file because they don't need one. Instead, you can use redirection to save any command's output anywhere you want. If you run this command:\n",
    "\n",
    "`\n",
    "head -n 5 seasonal/summer.csv\n",
    "`\n",
    "it prints the first 5 lines of the summer data on the screen. If you run this command instead:\n",
    "\n",
    "`head -n 5 seasonal/summer.csv > top.csv`\n",
    "nothing appears on the screen. Instead, head's output is put in a new file called top.csv. You can take a look at that file's contents using cat:\n",
    "\n",
    "`cat top.csv`\n",
    "The greater-than sign > tells the shell to redirect head's output to a file. It isn't part of the head command; instead, it works with every shell command that produces output."
   ]
  },
  {
   "cell_type": "markdown",
   "metadata": {},
   "source": [
    "### What's a better way to combine commands?\n",
    "Using redirection to combine commands has two drawbacks:\n",
    "\n",
    "It leaves a lot of intermediate files lying around (like top.csv).\n",
    "The commands to produce your final result are scattered across several lines of history.\n",
    "The shell provides another tool that solves both of these problems at once called a pipe. Once again, start by running head:\n",
    "\n",
    "`\n",
    "head -n 5 seasonal/summer.csv\n",
    "`\n",
    "Instead of sending head's output to a file, add a vertical bar and the tail command without a filename:\n",
    "\n",
    "`head -n 5 seasonal/summer.csv | tail -n 3`\n",
    "\n",
    "The pipe symbol tells the shell to use the output of the command on the left as the input to the command on the right."
   ]
  },
  {
   "cell_type": "code",
   "execution_count": null,
   "metadata": {},
   "outputs": [],
   "source": [
    "cut -f 2 -d , seasonal/summer.csv | grep -v -i \"Tooth\""
   ]
  },
  {
   "cell_type": "markdown",
   "metadata": {},
   "source": [
    "### How can I count the records in a file?\n",
    "The command wc (short for \"word count\") prints the number of characters, words, and lines in a file. You can make it print only one of these using -c, -w, or -l respectively."
   ]
  },
  {
   "cell_type": "code",
   "execution_count": null,
   "metadata": {},
   "outputs": [],
   "source": [
    "grep 2017-07 seasonal/spring.csv | wc -l"
   ]
  },
  {
   "cell_type": "markdown",
   "metadata": {},
   "source": [
    "### What other wildcards can I use?\n",
    "The shell has other wildcards as well, though they are less commonly used:\n",
    "\n",
    "- ? matches a single character, so 201?.txt will match 2017.txt or 2018.txt, but not 2017-01.txt.\n",
    "- [...] matches any one of the characters inside the square brackets, so 201[78].txt matches 2017.txt or 2018.txt, but not 2016.txt.\n",
    "- {...} matches any of the comma-separated patterns inside the curly brackets, so {*.txt, *.csv} matches any file whose name ends with .txt or .csv, but not files whose names end with .pdf."
   ]
  },
  {
   "cell_type": "code",
   "execution_count": null,
   "metadata": {},
   "outputs": [],
   "source": [
    "{singh.pdf, j*.txt}"
   ]
  },
  {
   "cell_type": "markdown",
   "metadata": {},
   "source": [
    "### How can I sort lines of text?\n",
    "As its name suggests, sort puts data in order. By default it does this in ascending alphabetical order, but the flags -n and -r can be used to sort numerically and reverse the order of its output, while -b tells it to ignore leading blanks and -f tells it to fold case (i.e., be case-insensitive). Pipelines often use grep to get rid of unwanted records and then sort to put the remaining records in order"
   ]
  },
  {
   "cell_type": "code",
   "execution_count": null,
   "metadata": {},
   "outputs": [],
   "source": [
    "cut -d , -f 2 seasonal/winter.csv | grep -v  Tooth |sort -r"
   ]
  },
  {
   "cell_type": "markdown",
   "metadata": {},
   "source": [
    "### How can I remove duplicate lines?\n",
    "Another command that is often used with sort is uniq, whose job is to remove duplicated lines. More specifically, it removes adjacent duplicated lines. If a file contains:\n",
    "\n",
    "`2017-07-03\n",
    "2017-07-03\n",
    "2017-08-03\n",
    "2017-08-03 `\n",
    "then uniq will produce:\n",
    "\n",
    "`2017-07-03\n",
    "2017-08-03`\n",
    "but if it contains:\n",
    "\n",
    "`2017-07-03\n",
    "2017-08-03\n",
    "2017-07-03\n",
    "2017-08-03`\n",
    "then uniq will print all four lines. The reason is that uniq is built to work with very large files. In order to remove non-adjacent lines from a file, it would have to keep the whole file in memory (or at least, all the unique lines seen so far). By only removing adjacent duplicates, it only has to keep the most recent unique line in memory."
   ]
  },
  {
   "cell_type": "code",
   "execution_count": null,
   "metadata": {},
   "outputs": [],
   "source": [
    "cut -d , -f 2 seasonal/winter.csv | grep -v Tooth | sort | uniq -c"
   ]
  },
  {
   "cell_type": "markdown",
   "metadata": {},
   "source": [
    "### How does the shell store information?\n",
    "Like other programs, the shell stores information in variables. Some of these, called environment variables, are available all the time. Environment variables' names are conventionally written in upper case, and a few of the more commonly-used ones are shown below.\n",
    "\n",
    "|Variable\t|Purpose\t|Value|\n",
    "|---|---|---|\n",
    "|HOME\t|User's home directory\t|/home/repl|\n",
    "|PWD\t|Present working directory\t|Same as pwd command|\n",
    "|SHELL\t|Which shell program is being used\t|/bin/bash|\n",
    "|USER\t|User's ID\t|repl|\n",
    "\n",
    "To get a complete list (which is quite long), you can type set in the shell."
   ]
  },
  {
   "cell_type": "code",
   "execution_count": 20,
   "metadata": {},
   "outputs": [
    {
     "name": "stdout",
     "output_type": "stream",
     "text": [
      "darwin23.0\n"
     ]
    }
   ],
   "source": [
    "!echo $OSTYPE"
   ]
  },
  {
   "cell_type": "markdown",
   "metadata": {},
   "source": [
    "### How else does the shell store information?\n",
    "The other kind of variable is called a shell variable, which is like a local variable in a programming language.\n",
    "\n",
    "To create a shell variable, you simply assign a value to a name:\n",
    "\n",
    "``` shell\n",
    "\n",
    "training=seasonal/summer.csv\n",
    "#without any spaces before or after the = sign. Once you have done this, you can check the variable's value with:\n",
    "\n",
    "echo $training\n",
    "seasonal/summer.csv\n",
    "\n",
    "```"
   ]
  },
  {
   "cell_type": "code",
   "execution_count": null,
   "metadata": {},
   "outputs": [],
   "source": [
    "testing=seasonal/winter.csv"
   ]
  },
  {
   "cell_type": "markdown",
   "metadata": {},
   "source": [
    "### How can I repeat a command many times?\n",
    "\n",
    "Shell variables are also used in loops, which repeat commands many times. If we run this command:\n",
    "\n",
    "``` shell\n",
    "for filetype in gif jpg png; do echo $filetype; done\n",
    "```\n",
    "\n",
    "it produces:\n",
    "\n",
    "gif\n",
    "jpg\n",
    "png"
   ]
  },
  {
   "cell_type": "markdown",
   "metadata": {},
   "source": [
    "### A variable's name versus its value\n",
    "A common mistake is to forget to use $ before the name of a variable. When you do this, the shell uses the name you have typed rather than the value of that variable.\n",
    "\n",
    "A more common mistake for experienced users is to mis-type the variable's name. For example, if you define datasets like this:\n",
    "\n",
    "datasets=seasonal/*.csv\n",
    "and then type:\n",
    "\n",
    "echo $datsets"
   ]
  },
  {
   "cell_type": "code",
   "execution_count": 34,
   "metadata": {},
   "outputs": [
    {
     "name": "stdout",
     "output_type": "stream",
     "text": [
      "zsh:1: permission denied: /Users/karajaram/Documents/GitHub/DataCamp/MLOps/Shell/home/repl/seasonal/spring.csv\n"
     ]
    }
   ],
   "source": [
    "! /Users/karajaram/Documents/GitHub/DataCamp/MLOps/Shell/home/repl/seasonal/*.csv"
   ]
  },
  {
   "cell_type": "code",
   "execution_count": 41,
   "metadata": {},
   "outputs": [],
   "source": [
    "!files=/Users/karajaram/Documents/GitHub/DataCamp/MLOps/Shell/home/repl/seasonal/*.csv"
   ]
  },
  {
   "cell_type": "code",
   "execution_count": 44,
   "metadata": {},
   "outputs": [],
   "source": [
    "!$files"
   ]
  },
  {
   "cell_type": "code",
   "execution_count": 37,
   "metadata": {},
   "outputs": [
    {
     "name": "stdout",
     "output_type": "stream",
     "text": [
      "files\n"
     ]
    }
   ],
   "source": [
    "!for f in files; do echo $f; done"
   ]
  },
  {
   "cell_type": "code",
   "execution_count": 38,
   "metadata": {},
   "outputs": [],
   "source": [
    "!for f in $files; do echo $f; done"
   ]
  },
  {
   "cell_type": "markdown",
   "metadata": {},
   "source": [
    "### How can I edit a file?\n",
    "Unix has a bewildering variety of text editors. For this course, we will use a simple one called Nano. If you type nano filename, it will open filename for editing (or create it if it doesn't already exist). You can move around with the arrow keys, delete characters using backspace, and do other operations with control-key combinations:\n",
    "\n",
    "- Ctrl + K: delete a line.\n",
    "- Ctrl + U: un-delete a line.\n",
    "- Ctrl + O: save the file ('O' stands for 'output'). You will also need to press Enter to confirm the filename!\n",
    "- Ctrl + X: exit the editor."
   ]
  },
  {
   "cell_type": "markdown",
   "metadata": {},
   "source": [
    "### How can I save commands to re-run later?\n",
    "You have been using the shell interactively so far. But since the commands you type in are just text, you can store them in files for the shell to run over and over again. To start exploring this powerful capability, put the following command in a file called headers.sh:\n",
    "\n",
    "``` shell\n",
    "head -n 1 seasonal/*.csv\n",
    "```\n",
    "This command selects the first row from each of the CSV files in the seasonal directory. Once you have created this file, you can run it by typing:\n",
    "\n",
    "``` shell\n",
    "bash headers.sh\n",
    "```\n",
    "This tells the shell (which is just a program called bash) to run the commands contained in the file headers.sh, which produces the same output as running the commands directly."
   ]
  },
  {
   "cell_type": "markdown",
   "metadata": {},
   "source": [
    "### How can I pass filenames to scripts?\n",
    "A script that processes specific files is useful as a record of what you did, but one that allows you to process any files you want is more useful. To support this, you can use the special expression $@ (dollar sign immediately followed by at-sign) to mean \"all of the command-line parameters given to the script\".\n",
    "\n",
    "For example, if unique-lines.sh contains sort $@ | uniq, when you run:\n",
    "\n",
    "``` shell \n",
    "bash unique-lines.sh seasonal/summer.csv ```"
   ]
  }
 ],
 "metadata": {
  "kernelspec": {
   "display_name": "Python 3",
   "language": "python",
   "name": "python3"
  },
  "language_info": {
   "codemirror_mode": {
    "name": "ipython",
    "version": 3
   },
   "file_extension": ".py",
   "mimetype": "text/x-python",
   "name": "python",
   "nbconvert_exporter": "python",
   "pygments_lexer": "ipython3",
   "version": "3.9.16"
  }
 },
 "nbformat": 4,
 "nbformat_minor": 0
}
